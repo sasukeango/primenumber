{
 "cells": [
  {
   "cell_type": "code",
   "execution_count": 1,
   "metadata": {},
   "outputs": [],
   "source": [
    "import numpy as np\n",
    "import pandas as pd"
   ]
  },
  {
   "cell_type": "code",
   "execution_count": 47,
   "metadata": {},
   "outputs": [],
   "source": [
    "def abc(x,y):\n",
    "    arr = np.random.randint(0,101,size=(x,y))\n",
    "    for i in range(0,x):\n",
    "        if arr[i,0]%2==0:\n",
    "            for j in range(0,y):\n",
    "                if ((j%2!=0) & (arr[i,j]%2 ==0))|((j%2==0) & (arr[i,j]%2 !=0)): \n",
    "                    arr[i,j]=arr[i,j]+1\n",
    "        else:\n",
    "            for j in range(0,y):\n",
    "                if ((j%2!=0) & (arr[i,j]%2 !=0))|((j%2==0) & (arr[i,j]%2 ==0)):\n",
    "                    arr[i,j]=arr[i,j]+1\n",
    "    return arr"
   ]
  },
  {
   "cell_type": "code",
   "execution_count": 48,
   "metadata": {},
   "outputs": [
    {
     "data": {
      "text/plain": [
       "dtype('int32')"
      ]
     },
     "execution_count": 48,
     "metadata": {},
     "output_type": "execute_result"
    }
   ],
   "source": [
    "arr2 = np.array(abc(3,5),ndmin=2)"
   ]
  },
  {
   "cell_type": "code",
   "execution_count": 50,
   "metadata": {},
   "outputs": [
    {
     "data": {
      "text/plain": [
       "array([[19, 56,  3, 34, 51],\n",
       "       [36, 29, 86, 63, 58],\n",
       "       [53, 56, 39, 22, 59]])"
      ]
     },
     "execution_count": 50,
     "metadata": {},
     "output_type": "execute_result"
    }
   ],
   "source": [
    "arr2"
   ]
  },
  {
   "cell_type": "code",
   "execution_count": 64,
   "metadata": {},
   "outputs": [],
   "source": [
    "def abc1(x):\n",
    "    inter = x.flatten()\n",
    "    sum = 0\n",
    "    for i in range(0,len(inter)):\n",
    "        n = True\n",
    "        if inter[i] == 1: n=False\n",
    "        else:\n",
    "            for j in range(2,inter[i]):\n",
    "                if inter[i]%j==0: \n",
    "                    n= False\n",
    "                    break\n",
    "                else: \n",
    "                    n = True\n",
    "        if n == True: \n",
    "            sum = sum + inter[i]\n",
    "    return print('Tổng các số nguyên tố trong mảng là: ',sum)"
   ]
  },
  {
   "cell_type": "code",
   "execution_count": 65,
   "metadata": {},
   "outputs": [
    {
     "name": "stdout",
     "output_type": "stream",
     "text": [
      "Tổng các số nguyên tố trong mảng là:  163\n"
     ]
    }
   ],
   "source": [
    "abc1(arr2)"
   ]
  },
  {
   "cell_type": "code",
   "execution_count": null,
   "metadata": {},
   "outputs": [],
   "source": []
  }
 ],
 "metadata": {
  "kernelspec": {
   "display_name": "Python 3 (ipykernel)",
   "language": "python",
   "name": "python3"
  },
  "language_info": {
   "codemirror_mode": {
    "name": "ipython",
    "version": 3
   },
   "file_extension": ".py",
   "mimetype": "text/x-python",
   "name": "python",
   "nbconvert_exporter": "python",
   "pygments_lexer": "ipython3",
   "version": "3.9.12"
  }
 },
 "nbformat": 4,
 "nbformat_minor": 2
}
